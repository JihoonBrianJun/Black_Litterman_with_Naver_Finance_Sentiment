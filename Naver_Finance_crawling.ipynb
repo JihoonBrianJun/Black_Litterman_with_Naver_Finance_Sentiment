{
 "cells": [
  {
   "cell_type": "code",
   "execution_count": 1,
   "id": "3334927e",
   "metadata": {},
   "outputs": [],
   "source": [
    "import os\n",
    "import time\n",
    "from tqdm import tqdm\n",
    "import numpy as np\n",
    "import pandas as pd\n",
    "\n",
    "from selenium import webdriver"
   ]
  },
  {
   "cell_type": "code",
   "execution_count": 2,
   "id": "cac003b7",
   "metadata": {},
   "outputs": [],
   "source": [
    "# List of 20 codes to collect the data\n",
    "\n",
    "code_list = ['005380', '033780', '000270', '207940', '005490', '006400',\n",
    "       '373220', '096770', '032830', '035420', '028260', '034730',\n",
    "       '012330', '005935', '066570', '015760', '003670', '055550',\n",
    "       '105560', '051910']"
   ]
  },
  {
   "cell_type": "code",
   "execution_count": 3,
   "id": "67a2f01a",
   "metadata": {},
   "outputs": [],
   "source": [
    "# Selenium Chromedriver configurations\n",
    "\n",
    "chrome_options = webdriver.ChromeOptions()\n",
    "chrome_options.add_argument('--headless')\n",
    "chrome_options.add_argument('--no-sandbox')\n",
    "chrome_options.add_argument('--disable-dev-shm-usage')\n",
    "\n",
    "chrome_driver_dir = os.path.join(os.getcwd(),'chromedriver')\n",
    "driver = webdriver.Chrome(chrome_driver_dir, options = chrome_options)"
   ]
  },
  {
   "cell_type": "code",
   "execution_count": null,
   "id": "3113a8fa",
   "metadata": {
    "scrolled": true
   },
   "outputs": [],
   "source": [
    "for code in code_list:\n",
    "    all_list = []\n",
    "    \n",
    "    # Access the Board page of the corresponding code\n",
    "    driver.get(f'https://finance.naver.com/item/board.naver?code={code}')\n",
    "    time.sleep(0.5)\n",
    "\n",
    "    # Find out the maxiumum page number, in order to set the range of the for loop\n",
    "    last_page_button = driver.find_element_by_xpath('//*[@id=\"content\"]/div[2]/table[2]/tbody/tr/td[2]/table/tbody/tr/td[12]/a')\n",
    "    last_page_button.click()\n",
    "    page_num = int(driver.current_url.split('&page=')[1])\n",
    "\n",
    "\n",
    "    # Iterate through each page, and get the datetime, title, up vote, and down vote for each thread.s\n",
    "    for page in tqdm(range(1, page_num)):\n",
    "        driver.get(f'https://finance.naver.com/item/board.naver?code={code}&page={page}')\n",
    "        \n",
    "        for i in range(3,26):\n",
    "            if i in [8, 14, 20]: \n",
    "                continue\n",
    "            up_count = int(driver.find_element_by_xpath(f'//*[@id=\"content\"]/div[2]/table[1]/tbody/tr[{i}]/td[5]/strong').text)\n",
    "            down_count = int(driver.find_element_by_xpath(f'//*[@id=\"content\"]/div[2]/table[1]/tbody/tr[{i}]/td[6]/strong').text)\n",
    "            \n",
    "            if up_count > down_count:\n",
    "                title = driver.find_element_by_xpath(f'//*[@id=\"content\"]/div[2]/table[1]/tbody/tr[{i}]/td[2]/a').text\n",
    "                datetime = driver.find_element_by_xpath(f'//*[@id=\"content\"]/div[2]/table[1]/tbody/tr[{i}]/td[1]/span').text\n",
    "                post_list = [datetime, title, up_count, down_count]\n",
    "                all_list.append(post_list)\n",
    "                \n",
    "    all_df = pd.DataFrame(all_list,columns=['datetime','title','up','down'])\n",
    "    all_df.to_csv(os.path.join(os.getcwd(),'raw',f'{code}.csv'),index=False)\n",
    "    print(f'{code}.csv successfully saved')"
   ]
  }
 ],
 "metadata": {
  "kernelspec": {
   "display_name": "jjh1",
   "language": "python",
   "name": "python3"
  },
  "language_info": {
   "codemirror_mode": {
    "name": "ipython",
    "version": 3
   },
   "file_extension": ".py",
   "mimetype": "text/x-python",
   "name": "python",
   "nbconvert_exporter": "python",
   "pygments_lexer": "ipython3",
   "version": "3.9.15"
  },
  "vscode": {
   "interpreter": {
    "hash": "15f4aacd9556265f1615cc73c631931044efcc45c198588ea5b6a55eacfa69f4"
   }
  }
 },
 "nbformat": 4,
 "nbformat_minor": 5
}
